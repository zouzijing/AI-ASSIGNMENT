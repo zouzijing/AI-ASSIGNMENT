{
 "cells": [
  {
   "cell_type": "markdown",
   "metadata": {},
   "source": [
    "# Introduction to Artificial Intelligence for Non Computing"
   ]
  },
  {
   "cell_type": "markdown",
   "metadata": {},
   "source": [
    "## Practical 3 (weeks 5 - 6)"
   ]
  },
  {
   "cell_type": "markdown",
   "metadata": {},
   "source": [
    "The following links provide additional information about data analysis , machine learning and Numpy"
   ]
  },
  {
   "cell_type": "markdown",
   "metadata": {},
   "source": [
    "Python data analysis: https://www.imooc.com/learn/843\n",
    "machine learning: https://www.imooc.com/learn/717\n",
    "Numpy :https://www.imooc.com/learn/943"
   ]
  },
  {
   "cell_type": "markdown",
   "metadata": {},
   "source": [
    "#### Theory Questions"
   ]
  },
  {
   "cell_type": "markdown",
   "metadata": {},
   "source": [
    "1\\.Which of the following are true and which are false? Give brief explanations.\n",
    "- a. In a fully observable, turn-taking, zero-sum game between two perfectly rational players,it does not help the first player to know what strategy the second player is using—that is, what move the second player will make, given the first player's move.\n",
    "- b. In a partially observable, turn-taking, zero-sum game between two perfectly rational players, it does not help the first player to know what move the second player will make, given the first player's move.\n",
    "- c. A perfectly rational backgammon agent never loses.\n",
    "\n",
    "See textbook Chapter6 24.6"
   ]
  },
  {
   "cell_type": "markdown",
   "metadata": {},
   "source": [
    "### Answer1\n",
    "* a.True. Because the game is fully observable, player can know what another one do.\n",
    "\n",
    "* b.False. It is helpful because player can't know what another one do.\n",
    "\n",
    "* c.False. Two perfectly rational backgammon agent battle will make one lose.\n",
    "***"
   ]
  },
  {
   "cell_type": "markdown",
   "metadata": {},
   "source": [
    "2\\.Define in your own words the terms constraint, backtracking search, arc consistency,backjumping, min-conflicts, and cycle cutset.\n",
    "\n",
    "See textbook Chapter6 6.16"
   ]
  },
  {
   "cell_type": "markdown",
   "metadata": {},
   "source": [
    "### Answer2\n",
    "Constraint: The variable and value should be statisfied constraint. It is some condition that should be allowed.\n",
    "\n",
    "Backtracking search: It is that when the successor is bad end, it should come back to the another successor.\n",
    "\n",
    "Arc consistency: If every value in a has consistent value in b, it is arc consistency.\n",
    "\n",
    "Backjumping: It is that when the successor is bad end, it should come back to the another successor.\n",
    "\n",
    "Min-conflicts: It is heuristic that choose a value which conflicts with others fewest when a variable change.\n",
    "\n",
    "Cycle cutset: \n",
    "***"
   ]
  },
  {
   "cell_type": "markdown",
   "metadata": {},
   "source": [
    "3\\.Explain why it is a good heuristic to choose the variable that is most constrained but the value that is least constraining in a CSP search.\n",
    "\n",
    "See textbook Chapter6 6.9"
   ]
  },
  {
   "cell_type": "markdown",
   "metadata": {},
   "source": [
    "### Answer3 \n",
    " The most constrained means it can choose the variable that may make bad end and make the successor go to bad end early.\n",
    " Least constraining means it make least conflict.\n",
    "\n",
    "***"
   ]
  },
  {
   "cell_type": "markdown",
   "metadata": {},
   "source": [
    "4\\.Consider the following procedure for choosing moves in games with chance nodes: \n",
    "- 1、Generate some dice-roll sequences (say, 50) down to a suitable depth (say, 8).\n",
    "- 2、With known dice rolls, the game tree becomes deterministic. For each dice-roll sequence,solve the resulting deterministic game tree using alpha-beta.\n",
    "- 3、Use the results to estimate the value of each move and to choose the best.Will this procedure work well? Why (or why not)?\n",
    "\n",
    "See textbook Chapter5 5.19"
   ]
  },
  {
   "cell_type": "markdown",
   "metadata": {},
   "source": [
    "### Answer4\n",
    "\n",
    "It don't work well and it will make wrong answer.\n",
    "The dice-roll is random, cannot predict.\n",
    "***"
   ]
  },
  {
   "cell_type": "markdown",
   "metadata": {},
   "source": [
    "5\\. Now,please consider this game:  there are three plates A, B and C, each plate has three bills. A puts 1, 20, 50; B puts 5, 10, 100; C puts 1, 5, 20. All units are \"Yuan\". There are two persons A and B, and two of them can check out three plates and banknotes .（ A is ourself, The other is B）\n",
    "The game is divided into three steps: \n",
    "- 1、A select a plate from three plate.\n",
    "- 2、B take out two banknotes from A selected plate,and give the  banknotes to A.  \n",
    "- 3、A take one of the two banknotes, and take it away.among,A want to get the max banknotes, B want to let A to get the min.\n",
    "\n",
    "Try to understand the minimax algorithm，you can click the link:https://blog.csdn.net/tangchenyi/article/details/22920031"
   ]
  },
  {
   "cell_type": "markdown",
   "metadata": {},
   "source": [
    "### Answer5  \n",
    "\n",
    "If A want to get the max banknotes, A should select the plate A. Then A can get 20 yuan.<br/>\n",
    "To consider this, it is that if B is smart enough, B will take 2 small banknotes at the A selected plate. <br/>\n",
    "* So if A selects A plate, B will take out 1 and 20 yuan, then A can get 20 yuan.<br/>\n",
    "* If A selects B plate, B will take out 5 and 10 yuan, then A can get 10 yuan.<br/>\n",
    "* If A selects c plate, B will take out 1 and 5 yuan, then A can get 5 yuan.<br/>\n",
    "#### So that A should select A plate to get the max banknotes.\n",
    "\n",
    "***"
   ]
  },
  {
   "cell_type": "markdown",
   "metadata": {},
   "source": [
    "### Programming Excercises"
   ]
  },
  {
   "cell_type": "markdown",
   "metadata": {},
   "source": [
    "1\\. Guess number(Single number): please generate a randomly number  with the function (random), then ask someone to guess the number,I think we should give the corresponding hint, otherwise it will be very difficult to guess the number.the game will be over untill you get the right number."
   ]
  },
  {
   "cell_type": "code",
   "execution_count": 1,
   "metadata": {},
   "outputs": [
    {
     "name": "stdout",
     "output_type": "stream",
     "text": [
      "Guess one number from 0 to 9:3\n",
      "The answer is larger than your input\n",
      "Guess one number from 0 to 9:4\n",
      "The answer is larger than your input\n",
      "Guess one number from 0 to 9:5\n",
      "The answer is larger than your input\n",
      "Guess one number from 0 to 9:6\n",
      "The answer is larger than your input\n",
      "Guess one number from 0 to 9:7\n",
      "The answer is larger than your input\n",
      "Guess one number from 0 to 9:8\n",
      "The answer is larger than your input\n",
      "Guess one number from 0 to 9:9\n",
      "Congratulation! You guess the right number\n"
     ]
    }
   ],
   "source": [
    "import random\n",
    "def game1():\n",
    "    Answer = int(random.random() * 10)\n",
    "    while 1:\n",
    "        now_input = input(\"Guess one number from 0 to 9:\")\n",
    "\n",
    "        # check valid\n",
    "        try:\n",
    "            int(now_input)\n",
    "        except:\n",
    "            print(\"ERROR : Please input one number!\")\n",
    "            continue\n",
    "        if len(now_input)>1:\n",
    "            print(\"ERROR : Please input one number!\")\n",
    "            continue\n",
    "\n",
    "        now_input = int(now_input)\n",
    "        if now_input==Answer:\n",
    "            print(\"Congratulation! You guess the right number\")\n",
    "            break\n",
    "        elif now_input < Answer:\n",
    "            print(\"The answer is larger than your input\")\n",
    "        elif now_input > Answer:\n",
    "            print(\"The answer is smaller than your input\")\n",
    "            \n",
    "game1()\n",
    "    "
   ]
  },
  {
   "cell_type": "markdown",
   "metadata": {},
   "source": [
    "2\\.if you had understand the guess single number games,Congratulates,next is the guess three number games,Maybe you can do it well.But this is a different way of thinking. \n",
    "first : we need generate three numbers,there are most ten times chances give  you to guess the number,of course,we also give you some cue.\n",
    "\n",
    "- 'When I say:-->It means:\n",
    "- 'error--> The 3 numbers are not in the mystical numbers.'\n",
    "- 'Only the number is correct --> the number is right , but the position is not right.'\n",
    "- 'Absolutely right--> numbers is right and the position also right.'\n",
    "\n",
    "Maybe it's better for you to understand the rule well through see the picture.\n",
    "<div style=\"float:left;\" ><img src=\"img/p1.png\" width=\"400\" height=\"300\" >"
   ]
  },
  {
   "cell_type": "code",
   "execution_count": 2,
   "metadata": {},
   "outputs": [
    {
     "name": "stdout",
     "output_type": "stream",
     "text": [
      "There are  3 numbers,please Guess what it is.\n",
      "The clue I gave is:\n",
      "When I say:\t\t\tIt means:\n",
      "error\t\t\t\tThe 3 numbers are not in the mystical numbers.\n",
      "Only the number is correct\tthe number is right , but the position is not right.\n",
      "Absolutely right\t\tnumbers is right and the position also right.\n",
      "There are  3 numbers. You have  10 chance to guess it.\n",
      "\n",
      "This is the 0 time: 123\n",
      "['error', 'error', 'Absolutely right']\n",
      "\n",
      "This is the 1 time: 453\n",
      "['error', 'error', 'Absolutely right']\n",
      "\n",
      "This is the 2 time: 673\n",
      "['Only the number is correct', 'Only the number is correct', 'Absolutely right']\n",
      "\n",
      "This is the 3 time: 763\n",
      "Congratulations!\n",
      "Do you want to play again? (yes or no)no\n"
     ]
    }
   ],
   "source": [
    "\n",
    "def MAIN_LOOP(): \n",
    "    three_number_game()\n",
    "    while 1:\n",
    "        choose = input(\"Do you want to play again? (yes or no)\")\n",
    "        if choose == \"no\":\n",
    "            break\n",
    "        elif choose == \"yes\":\n",
    "            print(\"==========================\")\n",
    "            three_number_game()\n",
    "        else:\n",
    "            print(\"Please input yes or no!\")\n",
    "            \n",
    "def three_number_game():\n",
    "    MAX_TRY = 10\n",
    "    \n",
    "    Answer = [] #List answer\n",
    "    answer = \"\" #String answer\n",
    "    for i in range(3):\n",
    "        number = int(random.random()*10)\n",
    "        Answer.append(number)\n",
    "        answer+=str(number)\n",
    "    \n",
    "    print(\"There are  3 numbers,please Guess what it is.\")\n",
    "    print(\"The clue I gave is:\")\n",
    "    print(\"When I say:\\t\\t\\tIt means:\")\n",
    "    print(\"error\\t\\t\\t\\tThe 3 numbers are not in the mystical numbers.\")\n",
    "    print(\"Only the number is correct\\tthe number is right , but the position is not right.\")\n",
    "    print(\"Absolutely right\\t\\tnumbers is right and the position also right.\")\n",
    "    print(\"There are  3 numbers. You have  10 chance to guess it.\")\n",
    "    \n",
    "    i = 0\n",
    "    while i<MAX_TRY:\n",
    "        print()\n",
    "        now_input = input(\"This is the %s time: \"%i)\n",
    "        \n",
    "         # check valid\n",
    "        if len(now_input)!=3:\n",
    "            print(\"ERROR : Please input three number!\")\n",
    "            continue\n",
    "        elif answer==now_input:\n",
    "            print(\"Congratulations!\")\n",
    "            break\n",
    "\n",
    "        \n",
    "        result = []\n",
    "        for j in range(3):\n",
    "            try:\n",
    "                number = int(now_input[j])\n",
    "                if number==Answer[j]:\n",
    "                    result.append(\"Absolutely right\")\n",
    "                elif number not in Answer:\n",
    "                    result.append(\"error\")\n",
    "                elif number in Answer:\n",
    "                    result.append(\"Only the number is correct\")\n",
    "                    \n",
    "            except:\n",
    "                result.append(\"Not a number\")\n",
    "        print(result)\n",
    "        i+=1\n",
    "    \n",
    "MAIN_LOOP()\n",
    "    "
   ]
  },
  {
   "cell_type": "markdown",
   "metadata": {},
   "source": [
    "3\\.please try using Python's Tkinter to make a visual interface（GUI）.if you don't know anything.Maybe you can refer to the below interface.and implement it by code.\n",
    "\n",
    "<div style=\"float:left;\" ><img src=\"img/p2.png\" width=\"200\" height=\"200\" >"
   ]
  },
  {
   "cell_type": "code",
   "execution_count": 3,
   "metadata": {},
   "outputs": [],
   "source": [
    "from tkinter import *\n",
    "\n",
    "\n",
    "root = Tk()\n",
    "\n",
    "root.title(\"tk\")\n",
    "root.minsize(300, 240)\n",
    "\n",
    "li1 = ['C', 'python', 'php', 'html', 'SQL', 'java']\n",
    "li2 = ['CSS', 'jQuery', 'Bootstrap']\n",
    "list1 = Listbox(root)\n",
    "list2 = Listbox(root)\n",
    "for item in li1:\n",
    "    list1.insert(0, item)\n",
    "\n",
    "for item in li2:\n",
    "    list2.insert(0, item)\n",
    "\n",
    "list1.pack()\n",
    "list2.pack()\n",
    "root.mainloop()\n"
   ]
  },
  {
   "cell_type": "markdown",
   "metadata": {},
   "source": [
    "4\\.Through the initial trial of Tkinter,    please write a simple calculator.\n",
    "\n",
    "<div style=\"float:left;\" ><img src=\"img/p3.png\" width=\"180\" height=\"200\" center=\"left\"></div>\n",
    "<div style=\"float:left;\" ><img src=\"img/p4.png\" width=\"180\" height=\"200\" center=\"right\" ></div>"
   ]
  },
  {
   "cell_type": "code",
   "execution_count": 4,
   "metadata": {},
   "outputs": [
    {
     "name": "stdout",
     "output_type": "stream",
     "text": [
      "2+9=11\n",
      "34*97=3298\n"
     ]
    }
   ],
   "source": [
    "from tkinter import *\n",
    "from tkinter import messagebox\n",
    "root = Tk()\n",
    "root.title(\"simple calculator\")\n",
    "\n",
    "root.minsize(400,500)\n",
    "\n",
    "result_frame = Frame(root, bg =\"#D3D3D3\")\n",
    "result_frame.pack()\n",
    "result_frame.place(width = 400,height = 50)\n",
    "\n",
    "result_text = StringVar()\n",
    "result_text.set(\"0\")\n",
    "result1 = Label(result_frame, bg=\"yellow\",text=\"0\",anchor=E,font=(\"Calibri\",30),textvariable = result_text)\n",
    "result1.pack()\n",
    "result1.place(relx = 0.02,rely = 0.024,width = 380,height = 45)\n",
    "\n",
    "button_words = [\"c\", \"±\", \"<-\", \"CE\", \"1\", \"2\", \"3\", \"4\", \"5\", \"6\", \"7\", \"8\", \".\", \"9\", \"0\", \"=\", \"+\", \"-\", '*', \"/\"\n",
    "                ,\"help\"]\n",
    "button_list = {}\n",
    "x_count = 0\n",
    "y_count = 0\n",
    "for word in button_words:\n",
    "    button_temp = Button(root,text=word)\n",
    "    button_temp.place(x=40+x_count*80,y=60+y_count*60,width = 80,height=60) #Make button to root\n",
    "    button_list[word]=button_temp\n",
    "    x_count += 1\n",
    "    if x_count==4:\n",
    "        x_count=0\n",
    "        y_count+=1\n",
    "\n",
    "\n",
    "def text_split():\n",
    "    sign_list = [\"+\",\"-\",\"*\",\"/\"]\n",
    "    result = []\n",
    "    temp = \"\"\n",
    "    for i in result_text.get():\n",
    "        if i in sign_list:\n",
    "            if temp != \"\":\n",
    "                result.append(temp)\n",
    "            result.append(i)\n",
    "            temp=\"\"\n",
    "        else:\n",
    "            temp+=i\n",
    "    if temp!=\"\":\n",
    "        result.append(temp)\n",
    "    return result\n",
    "# ±\n",
    "def inverse(event):\n",
    "    number = int(result_text.get())\n",
    "    if len(text_split())==1:\n",
    "        if number != 0:\n",
    "            result_text.set(str(-number))\n",
    "    elif len(text_split())==2:\n",
    "        if text_split()[0]==\"-\" and number != 0:\n",
    "            result_text.set(str(-number))\n",
    "# <-\n",
    "def reduce(event):\n",
    "    result = result_text.get()\n",
    "    if len(result)==1:\n",
    "        result_text.set(\"0\")\n",
    "        return\n",
    "    new_result = \"\"\n",
    "    for i in range(len(result)):\n",
    "        if i != len(result)-1:\n",
    "            new_result+=result[i]\n",
    "    result_text.set(new_result)\n",
    "\n",
    "# C\n",
    "def C(event):\n",
    "    text_list = text_split()\n",
    "    result = \"\"\n",
    "    if len(text_list)==1:\n",
    "        result_text.set(0)\n",
    "    elif text_list[len(text_list)-1] not in [\"+\",\"-\",\"*\",\"/\"]:\n",
    "        for i in range(len(text_list)):\n",
    "            if i != len(text_list)-1:\n",
    "                result += str(text_list[i])\n",
    "        result_text.set(result)\n",
    "            \n",
    "# number\n",
    "def number_set(number1):\n",
    "    try:\n",
    "        number = int(result_text.get())\n",
    "        if number != 0:\n",
    "            new_number = str(number)+str(number1)\n",
    "            result_text.set(new_number)\n",
    "        else:\n",
    "            result_text.set(number1)\n",
    "    except:\n",
    "        text_list = text_split()\n",
    "        if text_list[len(text_list)-1]==\"0\":\n",
    "            new_text=\"\"\n",
    "            for i in range(len(text_list)):\n",
    "                if i != len(text_list)-1:\n",
    "                    new_text+=text_list[i]\n",
    "            result_text.set(new_text+str(number1))\n",
    "        else:\n",
    "            result_text.set(result_text.get()+str(number1))\n",
    "# .\n",
    "def point(event):\n",
    "    text_list = text_split()\n",
    "    try:\n",
    "        int(text_list[len(text_list)-1])\n",
    "    except:\n",
    "        return\n",
    "    result_text.set(result_text.get()+\".\")\n",
    "\n",
    "# + - * /\n",
    "def add_sign(sign):\n",
    "    text_list = text_split()\n",
    "    if text_list[len(text_list)-1] not in [\"+\",\"-\",\"*\",\"/\"]:\n",
    "        result_text.set(result_text.get() + sign)\n",
    "# =\n",
    "def equal(event):\n",
    "    try:\n",
    "        text_list = text_split()\n",
    "        if text_list[len(text_list)-1] in [\"+\",\"-\",\"*\",\".\",\"/\"]:\n",
    "            return\n",
    "        result = calculate(result_text.get())\n",
    "        print(result_text.get()+\"=\"+str(result))\n",
    "        result_text.set(result)\n",
    "    except:\n",
    "        result_text.set(\"0\")\n",
    "\n",
    "\n",
    "\n",
    "def calculate(s):\n",
    "    r = re.compile(r'[\\d\\.]+[\\*/]-?[\\d\\.]+')\n",
    "    while re.search(r'[\\*/]', s):\n",
    "        ff = re.search(r, s).group()\n",
    "        xx = re.findall(r'(-?[\\d\\.]+|\\*|/)', ff)\n",
    "        if xx[1] == '*':\n",
    "            result = str(float(xx[0]) * float(xx[2]))\n",
    "        else:\n",
    "            result = str(float(xx[0]) / float(xx[2]))\n",
    "        s = s.replace(ff, result, 1)\n",
    "    xx = re.findall(r'([\\d\\.]+|\\+|-)', s)\n",
    "    nums = 0\n",
    "    for i in range(len(xx)):\n",
    "        if xx[i] == '-':\n",
    "            xx[i] = '+'\n",
    "            xx[i + 1] = float(xx[i + 1]) * -1\n",
    "    for i in xx:\n",
    "        if i == '+':\n",
    "            i = 0\n",
    "        nums = nums + float(i)\n",
    "    return int(nums)\n",
    "\n",
    "#==============================bind function to button=============================\n",
    "button_list[\"c\"].bind(\"<Button-1>\",C)\n",
    "button_list[\"±\"].bind(\"<Button-1>\",inverse)\n",
    "button_list[\"<-\"].bind(\"<Button-1>\",reduce)\n",
    "button_list['CE'].bind(\"<Button-1>\",lambda event:result_text.set(\"0\"))\n",
    "button_list[\"0\"].bind(\"<Button-1>\",lambda event:number_set(0))\n",
    "button_list[\"1\"].bind(\"<Button-1>\",lambda event:number_set(1))\n",
    "button_list[\"2\"].bind(\"<Button-1>\",lambda event:number_set(2))\n",
    "button_list[\"3\"].bind(\"<Button-1>\",lambda event:number_set(3))\n",
    "button_list[\"4\"].bind(\"<Button-1>\",lambda event:number_set(4))\n",
    "button_list[\"5\"].bind(\"<Button-1>\",lambda event:number_set(5))\n",
    "button_list[\"6\"].bind(\"<Button-1>\",lambda event:number_set(6))\n",
    "button_list[\"7\"].bind(\"<Button-1>\",lambda event:number_set(7))\n",
    "button_list[\"8\"].bind(\"<Button-1>\",lambda event:number_set(8))\n",
    "button_list[\"9\"].bind(\"<Button-1>\",lambda event:number_set(9))\n",
    "button_list[\".\"].bind(\"<Button-1>\",point)\n",
    "button_list[\"+\"].bind(\"<Button-1>\",lambda event:add_sign(\"+\"))\n",
    "button_list[\"-\"].bind(\"<Button-1>\",lambda event:add_sign(\"-\"))\n",
    "button_list[\"*\"].bind(\"<Button-1>\",lambda event:add_sign(\"*\"))\n",
    "button_list[\"/\"].bind(\"<Button-1>\",lambda event:add_sign(\"/\"))\n",
    "button_list[\"=\"].bind(\"<Button-1>\",equal)\n",
    "button_list['help'].bind(\"<Button-1>\",\n",
    "                         lambda event:messagebox.showinfo(title='help',message='This is a simple calculator!'))\n",
    "#==============================bind function to button=============================\n",
    "root.mainloop()\n"
   ]
  },
  {
   "cell_type": "markdown",
   "metadata": {},
   "source": [
    "5\\.Ball game:Python's pinball game, which can realize the game function of the keyboard control bottom baffle moving collision ball similar to table tennis game. \n",
    "\n",
    "<div style=\"float:left;\" ><img src=\"img/p5.png\" width=\"200\" height=\"200\" center=\"left\"></div>\n",
    "<div style=\"float:left;\" ><img src=\"img/p6.png\" width=\"200\" height=\"200\" center=\"right\" ></div>\n"
   ]
  },
  {
   "cell_type": "markdown",
   "metadata": {},
   "source": [
    "this is a step:how to install the matplotlib,you can reference this link:https://blog.csdn.net/not_give_up_/article/details/79058272\n",
    "1. Ball Class\n",
    "    draw is responsible for moving Ball\n",
    "    Collision detection, bounce, Ball detection of Paddle \n",
    "2. Paddle Class\n",
    "    draw is responsible for moving Paddle\n",
    "    Collision detection to determine whether or not to continue ,Monitor keyboard events\n",
    "3. main cycle\n",
    "    Drawing the Ball and Paddle"
   ]
  },
  {
   "cell_type": "code",
   "execution_count": null,
   "metadata": {},
   "outputs": [
    {
     "name": "stdout",
     "output_type": "stream",
     "text": [
      "Game Over!\n",
      "You only servive 3 seconds\n"
     ]
    }
   ],
   "source": [
    "from tkinter import *\n",
    "import random\n",
    "import time\n",
    "from tkinter import messagebox\n",
    "#Left key function\n",
    "def left(event):\n",
    "    pos_paddle = canvas.coords(paddle)\n",
    "    if pos_paddle[0]>=20:\n",
    "        canvas.move(paddle, -20, 0)\n",
    "        \n",
    "#Right key function\n",
    "def right(event):\n",
    "    pos_paddle = canvas.coords(paddle)\n",
    "    if pos_paddle[2]<=canvas.winfo_width()-20:\n",
    "        canvas.move(paddle, 20, 0)\n",
    "\n",
    "class Ball:\n",
    "    def __init__(self,canvas,paddle,maxSpeed):\n",
    "        self.canvas = canvas\n",
    "        self.paddle = paddle\n",
    "        self.ball = canvas.create_oval(110, 110, 125, 125, fill=\"red\")\n",
    "        self.canvas.move(self.ball, 245, 100)\n",
    "        self.x = random.random()*maxSpeed+1\n",
    "        self.y = -(random.random()*maxSpeed+1)\n",
    "        self.canvas_height = self.canvas.winfo_height()\n",
    "        self.canvas_width = self.canvas.winfo_width()\n",
    "\n",
    "    def next(self):\n",
    "        self.canvas.move(self.ball, self.x, self.y)\n",
    "        pos_ball = self.canvas.coords(self.ball)\n",
    "        pos_paddle = self.canvas.coords(self.paddle)\n",
    "        if pos_ball[0]>=pos_paddle[0] and pos_ball[2]<= pos_paddle[2] and pos_ball[3]>=pos_paddle[1]:\n",
    "            if pos_ball[1]<=pos_paddle[1]:  #Conflict with paddle\n",
    "                self.y=-self.y\n",
    "        if pos_ball[1] <= 0:    #Conflict with wall\n",
    "            self.y = -self.y\n",
    "        if pos_ball[0] <= 0 or pos_ball[2] >= self.canvas_width: #Conflict with wall\n",
    "            self.x = -self.x\n",
    "        if pos_ball[3] >= self.canvas_height: #Game Over\n",
    "            return False\n",
    "\n",
    "\n",
    "\n",
    "\n",
    "root = Tk()\n",
    "root.title(\"Game\")\n",
    "\n",
    "root.minsize(500,500)\n",
    "\n",
    "canvas = Canvas(root, width=500, height=500)\n",
    "canvas.pack()\n",
    "\n",
    "root.update()\n",
    "paddle = canvas.create_rectangle(325, 350, 475, 360,fill='blue')  # Make paddle\n",
    "ball = Ball(canvas,paddle,4)     # Make ball\n",
    "\n",
    "canvas.bind('<Left>', left)    # Set function to control paddle with keyboard\n",
    "canvas.bind('<Right>', right)\n",
    "\n",
    "canvas.focus_set()\n",
    "status = 0 # Normal status\n",
    "\n",
    "start_time = time.time()\n",
    "while 1:\n",
    "    try:\n",
    "        \n",
    "        if status == 0:\n",
    "            if ball.next()== False:\n",
    "                status = 1\n",
    "        elif status == 1:  # Game Over status\n",
    "            label = Label(canvas,text=\"Game Over!\",font=(\"Calibri\",30))\n",
    "            label.pack()\n",
    "            status = 2\n",
    "            print(\"Game Over!\")\n",
    "            print(\"You only servive %s seconds\" % str(int(time.time()-start_time)))\n",
    "        root.update_idletasks()\n",
    "        root.update()\n",
    "        time.sleep(0.01)\n",
    "    except:\n",
    "        pass\n"
   ]
  },
  {
   "cell_type": "code",
   "execution_count": null,
   "metadata": {},
   "outputs": [],
   "source": []
  }
 ],
 "metadata": {
  "kernelspec": {
   "display_name": "Python 3",
   "language": "python",
   "name": "python3"
  },
  "language_info": {
   "codemirror_mode": {
    "name": "ipython",
    "version": 3
   },
   "file_extension": ".py",
   "mimetype": "text/x-python",
   "name": "python",
   "nbconvert_exporter": "python",
   "pygments_lexer": "ipython3",
   "version": "3.6.5"
  }
 },
 "nbformat": 4,
 "nbformat_minor": 2
}
