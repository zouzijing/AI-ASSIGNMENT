{
 "cells": [
  {
   "cell_type": "markdown",
   "metadata": {},
   "source": [
    "# Introduction to Artificial Intelligence for Non Computing"
   ]
  },
  {
   "cell_type": "markdown",
   "metadata": {},
   "source": [
    "## Practical 2 (weeks 3 - 4)"
   ]
  },
  {
   "cell_type": "markdown",
   "metadata": {},
   "source": [
    "## Search Techniques"
   ]
  },
  {
   "cell_type": "markdown",
   "metadata": {},
   "source": [
    "The following links provide additional information about depth first search and breath first search"
   ]
  },
  {
   "cell_type": "markdown",
   "metadata": {},
   "source": [
    "- Depth first search:   link：https://pan.baidu.com/s/1bkLHKKbSBNpfFuKwDyURqw  password：oy76\n",
    "- Breath first search:  link：https://pan.baidu.com/s/176g5q0W3rGbSAM5tZMraeg   password：7mdh"
   ]
  },
  {
   "cell_type": "markdown",
   "metadata": {},
   "source": [
    "#### Theory Questions "
   ]
  },
  {
   "cell_type": "markdown",
   "metadata": {},
   "source": [
    "1\\. What is an algorithm? A sequence of steps such as a recipe or a movie script.\n",
    "\n",
    "As a movie viewer, please write an algorithm for a process to \"see a movie\". Include details of the following for example (add additional information yourself):\n",
    "\t- The start conditions \n",
    "\t-- I want to watch a movie\n",
    "\t- Roles (people/actors involved) \n",
    "    --watcher, ticket seller etc \n",
    "    -Equipment required (\"props\")\n",
    "    --seats, ticket etc\n",
    "    - The scenes \n",
    "    -- scene 1 - buy ticket \n",
    "    -- ??? what happens next\n",
    "    -- scene 3, scene 3 ...\n",
    "    - Results/outcomes\n",
    "    -- ?\n"
   ]
  },
  {
   "cell_type": "markdown",
   "metadata": {},
   "source": [
    "\n",
    "### see a movie\n",
    "- Before start:\n",
    "    * The start conditions: \n",
    "        - I want to see a movie.\n",
    "        - I have enough money to buy a ticket.\n",
    "    * Roles:\n",
    "        - watcher\n",
    "        - ticket seller\n",
    "        - me\n",
    "        - ticket collector\n",
    "    * Equipment required:\n",
    "        - seats\n",
    "        - ticket\n",
    "        - money\n",
    "        - ...\n",
    "- <font color=red size=4.5>Start</font>\n",
    "- scene1: bought ticket\n",
    "  1. I gave the money to the ticket seller.\n",
    "  2. The ticket seller gave the ticket to me.\n",
    "- scene2: went to my seat in the cinema\n",
    "  1. I went to the cinema.\n",
    "  2. I took out the ticket and gave it to the ticket collector.\n",
    "  3. The ticket collector allowed me to enter.\n",
    "  4. I found my seat in the cinema and sit down.\n",
    "- scene3: sit on the seat until the movie end\n",
    "- scene4: left cinema\n",
    "- <font color=red size=4.5>End</font>\n",
    "- Results/outcomes:\n",
    "    * I spent money.\n",
    "    * I watched a movie more.\n",
    "    * The cinema got money.\n",
    "    * The cinema used eletricity.\n",
    "    \n",
    "***\n"
   ]
  },
  {
   "cell_type": "markdown",
   "metadata": {},
   "source": [
    "2\\. A farmer with his wolf, duck and bag of corn come to the east side of a river they wish to cross. There is a boat at the rivers edge, but of course only the farmer can row. The boat can only hold two things (including the rower) at any one time. If the wolf is ever left alone with the duck, the wolf will eat it. Similarly if the duck is ever left alone with the corn, the duck will eat it. How can the farmer get across the river so that all four arrive safely on the other side? "
   ]
  },
  {
   "cell_type": "markdown",
   "metadata": {},
   "source": [
    "1. Take the duck to the west side.\n",
    "2. Take nothing to the east side.\n",
    "3. Take the bag of corn to the west side.\n",
    "4. Take the duck to the east side.\n",
    "5. Take the wolf to the west side.\n",
    "6. Take nothing to the east side.\n",
    "7. Take the duck to the west side.\n",
    "\n",
    "***"
   ]
  },
  {
   "cell_type": "markdown",
   "metadata": {},
   "source": [
    " "
   ]
  },
  {
   "cell_type": "markdown",
   "metadata": {},
   "source": [
    "3\\.Explain why we determine our problem goals before we write the problem formulation (including the model and deciding what algorithm or techniques to use - for example search, or other method).\n",
    "\n",
    "See Chapter3.1 (Russel & Norvig)"
   ]
  },
  {
   "cell_type": "markdown",
   "metadata": {},
   "source": [
    "- Goals help organise behaviour by limiting objectives and actions to those which contribute to the goal state.\n",
    "- Problem formulation is the process of deciding what actionsand states to consider to attain the goal.\n",
    "- If we do problem formulation before determine out problem goals, the problem formulation cannot be finished because we don't know which state should program stop.\n",
    "- For example, search should do the goal formulation first because the problem formulation need it to be finished.\n",
    "\n",
    "***"
   ]
  },
  {
   "cell_type": "markdown",
   "metadata": {},
   "source": [
    "4\\. This question requires you to perform BFS and DFS on paper.\n",
    "\n",
    "<img src=\"img/p1.png\" width=\"180\" height=\"180\" >\n",
    "\n",
    "1. Simulate (on pencil-and-paper) breadth-first search starting from node A when the goal node is K.\n",
    "2. Simulate (on pencil-and-paper) depth first search starting from node A when the goal node is I.\n"
   ]
  },
  {
   "cell_type": "markdown",
   "metadata": {},
   "source": [
    "1. \n",
    "    <p>(1) Initial state, queue:[A]</p>\n",
    "    <p>(2) A, [B]</p>\n",
    "    <p>(3) B, [C,D]</p>\n",
    "    <p>(4) C, [D,E,F]</p>\n",
    "    <p>(5) D, [E,F,H,G]</p>\n",
    "    <p>(6) E, [F,H,G]</p>\n",
    "    <p>(7) F, [H,G]</p>\n",
    "    <p>(8) H, [G,I,K]</p>\n",
    "    <p>(9) G, [I,K]</p>\n",
    "    <p>(10) I, [K]</p>\n",
    "    <p>(11) K, []</p>\n",
    "    <br/>\n",
    "2.  <p>(1) Initial state, stack:[A]</p>\n",
    "    <p>(2) A, [B]</p>\n",
    "    <p>(3) B, [C,D]</p>\n",
    "    <p>(4) D, [C,H,G]</p>\n",
    "    <p>(5) G, [C,H]</p>\n",
    "    <p>(6) H, [C,I,K]</p>\n",
    "    <p>(7) K, [C,I]</p>\n",
    "    <p>(8) I, [C]</p>\n",
    "\n",
    "***"
   ]
  },
  {
   "cell_type": "markdown",
   "metadata": {},
   "source": [
    "5\\.Consider a state space where the start state is number 1 and each state  k has two successors: numbers 2k and 2k + 1.\n",
    "- a. Draw the portion of the state space for states 1 to 15.\n",
    "- b. Suppose the goal state is 11. List the order in which nodes will be visited for breadthfirst\n",
    "search, depth-limited search with limit 3, and iterative deepening search.\n",
    "- c. How well would bidirectional search work on this problem? What is the branching\n",
    "factor in each direction of the bidirectional search?\n",
    "- d. Does the answer to (c) suggest a reformulation of the problem that would allow you to\n",
    "solve the problem of getting from state 1 to a given goal state with almost no search?\n",
    "- e. Call the action going from k to 2k Left, and the action going to 2k + 1 Right. Can you\n",
    "find an algorithm that outputs the solution to this problem without any search at all?\n",
    "\n",
    "See textbook Chapter3.15"
   ]
  },
  {
   "cell_type": "markdown",
   "metadata": {},
   "source": [
    "- a. <img src=\"img/q5.png\" width=\"500\" height=\"400\" >\n",
    "- b. \n",
    "    * breadthfirst search: 1,2,3,4,5,6,7,8,9,10,11\n",
    "    * depth-limited search with limit 3: 1,2,4,8,9,5,10,11\n",
    "    * iterative deepening search: 1,1,2,3,1,2,4,5,3,6,7,1,2,4,8,5,10,11\n",
    "- c. It's do well on this problem. The forward branching factor is 2 and reverse is 1.\n",
    "- d. Yes. We can start from goal state and reverse search because each step has only one successor. When get to the state 1 we stop.\n",
    "- e. \n",
    "       "
   ]
  },
  {
   "cell_type": "markdown",
   "metadata": {},
   "source": [
    "### Programming Excercises"
   ]
  },
  {
   "cell_type": "markdown",
   "metadata": {},
   "source": [
    "1\\.Write a program to solve a classic ancient Chinese puzzle:  \n",
    " We count 35 heads and 94 legs among the chickens and rabbits in a farm. How many rabbits and how many chickens do we have? "
   ]
  },
  {
   "cell_type": "code",
   "execution_count": 1,
   "metadata": {},
   "outputs": [
    {
     "name": "stdout",
     "output_type": "stream",
     "text": [
      "rabbits:12, chickens:23\n"
     ]
    }
   ],
   "source": [
    "def puzzle(heads,legs):\n",
    "    chicken_legs = 2\n",
    "    rabbit_legs = 4\n",
    "    rabbits = heads\n",
    "    chickens = 0\n",
    "    while(1):\n",
    "        if rabbits * rabbit_legs + chickens * chicken_legs == legs:\n",
    "            print(\"rabbits:%s, chickens:%s\" %(rabbits,chickens))\n",
    "            break\n",
    "        elif rabbits < 0:\n",
    "            print(\"No answer\")\n",
    "            break\n",
    "        else:\n",
    "            rabbits -= 1\n",
    "            chickens += 1\n",
    "\n",
    "puzzle(heads=35,legs=94)\n",
    "    \n",
    "        "
   ]
  },
  {
   "cell_type": "markdown",
   "metadata": {},
   "source": [
    "2\\. _Social networking_ Please look at the graph below of social relationships. You have a mango farm, you need to find a mango buyer and sell him your mango that you have grown (just a small farm). To this end, our principle is to use our social network of friends separated by one degree, and then second degree friends (friends of friends), third degree friends (friends of friends of friends).\n",
    "\n",
    "Use the depth first algorithm to search your network until you find a mango seller. \n",
    "\n",
    "We make an assumption that if the person's name ends with m, then it means the person must be the mango seller!\n",
    "\n",
    "\n",
    "<img src=\"img/p3.png\" width=\"500\" height=\"400\" >"
   ]
  },
  {
   "cell_type": "code",
   "execution_count": 2,
   "metadata": {},
   "outputs": [
    {
     "name": "stdout",
     "output_type": "stream",
     "text": [
      "['you', 'claire', 'thom']\n"
     ]
    }
   ],
   "source": [
    "class person:\n",
    "    def __init__(self,name):\n",
    "        self.name = name\n",
    "    def set_friends(self,friends):\n",
    "        self.friends = friends\n",
    "    def is_mango_seller(self):\n",
    "        name = self.name\n",
    "        if name[len(name)-1] == \"m\":\n",
    "            return True\n",
    "        else:\n",
    "            return False\n",
    "    \n",
    "### init map\n",
    "anuj = person(\"anuj\")\n",
    "bob = person(\"bob\")\n",
    "peggy = person(\"peggy\")\n",
    "you = person(\"you\")\n",
    "alice = person(\"alice\")\n",
    "claire = person(\"claire\")\n",
    "jonny = person(\"jonny\")\n",
    "thom = person(\"thom\")\n",
    "\n",
    "anuj.set_friends([])\n",
    "bob.set_friends([anuj,peggy])\n",
    "peggy.set_friends([])\n",
    "you.set_friends([bob,alice,claire])\n",
    "alice.set_friends([peggy])\n",
    "claire.set_friends([jonny,thom])\n",
    "jonny.set_friends([])\n",
    "thom.set_friends([])\n",
    "\n",
    "path = []\n",
    "# Main function -- depth first algorithm\n",
    "def find_mango_seller(root):\n",
    "    friends = root.friends\n",
    "    for friend in friends:\n",
    "        path.append(root.name)\n",
    "        if friend.is_mango_seller():\n",
    "            path.append(friend.name)\n",
    "            return True\n",
    "        elif len(friend.friends) != 0:\n",
    "            if find_mango_seller(friend):\n",
    "                return True\n",
    "        path.pop()\n",
    "    return False\n",
    "\n",
    "find_mango_seller(you)\n",
    "print(path)\n",
    "        \n",
    "\n"
   ]
  },
  {
   "cell_type": "markdown",
   "metadata": {},
   "source": [
    "3\\. Depth First traverse：Use depth first traversal to traverse all the DLL files on the C disk and output the file names.\n",
    "\n",
    "Update your code to search for a particular filename.\n",
    "\n",
    "What protocol did you use to select the next node to expand on the fringe?"
   ]
  },
  {
   "cell_type": "code",
   "execution_count": 3,
   "metadata": {},
   "outputs": [
    {
     "name": "stdout",
     "output_type": "stream",
     "text": [
      "Find file -> c:/bootres.dll\n"
     ]
    }
   ],
   "source": [
    "import os\n",
    "import time\n",
    "\n",
    "timeout = 10\n",
    "\n",
    "def get_dlls(dir):\n",
    "    result = []\n",
    "    for root, dirs, files in os.walk(dir):\n",
    "        for file in files:  \n",
    "            if os.path.splitext(file)[1] == '.dll':  \n",
    "                     result.append(os.path.join(dir, file)) \n",
    "    return result\n",
    "\n",
    "def get_dirs(dir):\n",
    "    result = []\n",
    "    for root, dirs, files in os.walk(dir):\n",
    "        for dir_name in dirs:\n",
    "            result.append(os.path.join(dir, dir_name))\n",
    "    return result\n",
    "root_dir = \"c:/\"\n",
    "\n",
    "def Depth_First_traverse(file_name):\n",
    "    my_stack = [root_dir]\n",
    "    start_time = time.time()\n",
    "    seek = False\n",
    "    while len(my_stack)!=0:\n",
    "        if time.time()-start_time > timeout:\n",
    "           print(\"timeout\")\n",
    "           break\n",
    "        now_dir = my_stack.pop()\n",
    "        dirs = get_dirs(now_dir)\n",
    "        dlls = get_dlls(now_dir)\n",
    "        \n",
    "        for file in dlls:\n",
    "            if file.split(\"/\")[len(file.split(\"/\"))-1] == file_name:\n",
    "                print(\"Find file -> \"+file)\n",
    "                seek = True\n",
    "                break\n",
    "        if seek:\n",
    "            break\n",
    "        for dir in dirs:\n",
    "            my_stack.append(dir)\n",
    "            \n",
    "Depth_First_traverse(\"bootres.dll\")\n",
    "        \n"
   ]
  },
  {
   "cell_type": "markdown",
   "metadata": {},
   "source": [
    "4\\.\n",
    "Breadth First traverse：Use breadth traversal to traverse all the DLL files on the C disk and output the filename.\n",
    "\n",
    "Update your code to search for a particular filename."
   ]
  },
  {
   "cell_type": "code",
   "execution_count": 4,
   "metadata": {},
   "outputs": [
    {
     "name": "stdout",
     "output_type": "stream",
     "text": [
      "find file ->c:/bootres.dll\n"
     ]
    }
   ],
   "source": [
    "def Breadth_First_traverse(file_name):\n",
    "    my_queue = [root_dir]\n",
    "    start_time = time.time()\n",
    "    seek = False\n",
    "    while len(my_queue)!=0:\n",
    "        now_dir = my_queue.pop(0)\n",
    "        if time.time() - start_time > timeout:\n",
    "            print(\"timeout\")\n",
    "            break\n",
    "        dirs = get_dirs(now_dir)\n",
    "        dlls = get_dlls(now_dir)\n",
    "        for file in dlls:\n",
    "            if file.split(\"/\")[len(file.split(\"/\"))-1] == file_name:\n",
    "                print(\"find file ->\"+file)\n",
    "                seek = True\n",
    "                break\n",
    "        if seek:\n",
    "            break\n",
    "        for dir in dirs:\n",
    "            my_queue.append(dir)\n",
    "        \n",
    "Breadth_First_traverse(\"bootres.dll\")"
   ]
  },
  {
   "cell_type": "markdown",
   "metadata": {},
   "source": [
    "5\\. Uniform cost search"
   ]
  },
  {
   "cell_type": "markdown",
   "metadata": {},
   "source": [
    "Consider a state space where the start state is 2 and each state k has three successors: numbers 2k, 2k+1, 2k+2. The cost from state k to each respective child is k, ground(k/2), k+2.\n",
    "\n",
    "can you implement a uniform-cost-search algorithm with python. The goal state is number 85."
   ]
  },
  {
   "cell_type": "code",
   "execution_count": 5,
   "metadata": {},
   "outputs": [
    {
     "name": "stdout",
     "output_type": "stream",
     "text": [
      "[2, 4, 9, 20, 42, 85]\n"
     ]
    }
   ],
   "source": [
    "class state_node:\n",
    "    def __init__(self,state,cost,parent=None):\n",
    "        self.state = state\n",
    "        self.cost = cost\n",
    "        self.parent = parent\n",
    "    def __str__(self):\n",
    "        parent = self.parent\n",
    "        reverse = [self.state,parent.state]\n",
    "        while parent.parent!=None:\n",
    "            parent = parent.parent\n",
    "            reverse.append(parent.state)\n",
    "        result = []\n",
    "        for i in range(len(reverse)):\n",
    "            result.append(reverse[len(reverse)-1-i])\n",
    "        return str(result)\n",
    "            \n",
    "def get_least(my_list):\n",
    "    for i in range(len(my_list)):\n",
    "        if i==0:\n",
    "            least_cost = my_list[0].cost\n",
    "            least_key = 0\n",
    "        else:\n",
    "            if my_list[i].cost<least_cost:\n",
    "                least_cost = my_list[i].cost\n",
    "                least_key = i\n",
    "    return my_list.pop(least_key)\n",
    "\n",
    "def uniform_cost_search(start_state,goal_state):\n",
    "    start_node = state_node(start_state,0)\n",
    "    my_list=[start_node]\n",
    "    best_node = None\n",
    "    while len(my_list)!=0:\n",
    "        now_node = get_least(my_list)\n",
    "        now_state = now_node.state\n",
    "        now_cost = now_node.cost\n",
    "        if now_state == goal_state:\n",
    "            if best_node==None:\n",
    "                best_node = now_node\n",
    "            else:\n",
    "                if now_cost < best_node.cost:\n",
    "                    best_node = now_node\n",
    "        elif now_state*2 > goal_state:\n",
    "            continue\n",
    "        else:\n",
    "            my_list.append(state_node(2*now_state,now_cost + now_state,now_node))\n",
    "            my_list.append(state_node(2*now_state+1,now_cost + int(now_state/2),now_node))\n",
    "            my_list.append(state_node(2*now_state+2,now_cost + 2,now_node))\n",
    "    return best_node\n",
    "            \n",
    "print(uniform_cost_search(2,85))\n",
    "        \n",
    "        \n",
    "    "
   ]
  },
  {
   "cell_type": "markdown",
   "metadata": {},
   "source": [
    "6\\.a* question"
   ]
  },
  {
   "cell_type": "markdown",
   "metadata": {},
   "source": [
    "A cute cat stays in the A position, he is hungry. But the food is placed in the B position. Can you help him to find the food? \n",
    "Hint:  The problem isn't easy. It's essential for you to understand the A* algorithm before you solve this problem. Then, you can use some thought of Node in java, when you are in code.\n",
    "\n",
    "<img src=\"img/p4.png\" width=\"500\" height=\"400\" >\n"
   ]
  },
  {
   "cell_type": "code",
   "execution_count": 6,
   "metadata": {},
   "outputs": [
    {
     "name": "stdout",
     "output_type": "stream",
     "text": [
      "[(1, 2), (2, 2), (2, 3), (2, 4), (3, 4), (4, 4), (5, 4), (5, 3), (5, 2)]\n"
     ]
    }
   ],
   "source": [
    "#==========init map=====#\n",
    "EMPTY = 0\n",
    "WALL = -1\n",
    "MAP = [[ EMPTY for i in range(5)] for i in range(7)]\n",
    "MAP[3][1]=WALL\n",
    "MAP[3][2]=WALL\n",
    "MAP[3][3]=WALL\n",
    "#==========init map=====#\n",
    "\n",
    "# storage position,neighbors,cost and parent node\n",
    "class position_node:\n",
    "    def __init__(self,position,goal_position,parent=None):\n",
    "        self.position = position\n",
    "        self.parent = parent\n",
    "        self.set_cost(goal_position)\n",
    "        self.set_neighbors(goal_position)\n",
    "        \n",
    "    def set_cost(self,goal_position):\n",
    "        if self.parent==None:\n",
    "            self.already_walk = 0\n",
    "        else:\n",
    "            self.already_walk = self.parent.already_walk + 1\n",
    "        self.cost = get_distance(self.position,goal_position) + self.already_walk\n",
    "        \n",
    "    def set_neighbors(self,goal_position):\n",
    "        neighbors = []\n",
    "        position = self.position\n",
    "        neighbors.append((position[0]+1,position[1]))\n",
    "        neighbors.append((position[0]-1,position[1]))\n",
    "        neighbors.append((position[0],position[1]+1))\n",
    "        neighbors.append((position[0],position[1]-1))\n",
    "        pop_list = []\n",
    "        for i in range(len(neighbors)):\n",
    "            this_neighbor = neighbors[i]\n",
    "            if this_neighbor[0]<0 or this_neighbor[0]>len(MAP)-1:\n",
    "                pop_list.append(this_neighbor)\n",
    "            elif this_neighbor[1]<0 or this_neighbor[1]>len(MAP[0])-1:\n",
    "                pop_list.append(this_neighbor)\n",
    "            elif MAP[this_neighbor[0]][this_neighbor[1]] == WALL:\n",
    "                pop_list.append(this_neighbor)\n",
    "        for i in pop_list:\n",
    "            for j in range(len(neighbors)):\n",
    "                if i==neighbors[j]:\n",
    "                    neighbors.pop(j)\n",
    "                    break\n",
    "        self.neighbors = neighbors\n",
    "    \n",
    "    # print the path\n",
    "    def __str__(self):\n",
    "        parent = self.parent\n",
    "        reverse = [self.position,parent.position]\n",
    "        while parent.parent!=None:\n",
    "            parent = parent.parent\n",
    "            reverse.append(parent.position)\n",
    "        result = []\n",
    "        for i in range(len(reverse)):\n",
    "            result.append(reverse[len(reverse)-1-i])\n",
    "        return str(result)\n",
    "        \n",
    "def get_distance(position1,position2):\n",
    "    return abs(position1[0]-position2[0])+abs(position2[1]-position1[1])\n",
    "\n",
    "\n",
    "# Main algorithm\n",
    "def A_STAR(start_position,goal_position):\n",
    "    start_node = position_node(start_position,goal_position)\n",
    "    close_list = []\n",
    "    open_list = [start_node]\n",
    "    while len(open_list)!=0:\n",
    "        now_node = get_least(open_list)\n",
    "        if now_node.position == goal_position:\n",
    "            return now_node\n",
    "        if now_node.position in close_list:\n",
    "            continue\n",
    "        close_list.append(now_node.position)\n",
    "        for next_position in now_node.neighbors:\n",
    "            if next_position in close_list:\n",
    "                continue\n",
    "            else:\n",
    "                next_node = position_node(next_position,goal_position,now_node)\n",
    "                open_list.append(next_node)\n",
    "            \n",
    "    \n",
    "print(A_STAR((1,2),(5,2)))"
   ]
  }
 ],
 "metadata": {
  "kernelspec": {
   "display_name": "Python 3",
   "language": "python",
   "name": "python3"
  },
  "language_info": {
   "codemirror_mode": {
    "name": "ipython",
    "version": 3
   },
   "file_extension": ".py",
   "mimetype": "text/x-python",
   "name": "python",
   "nbconvert_exporter": "python",
   "pygments_lexer": "ipython3",
   "version": "3.6.5"
  }
 },
 "nbformat": 4,
 "nbformat_minor": 2
}
