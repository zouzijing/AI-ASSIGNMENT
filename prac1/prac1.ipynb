{
 "cells": [
  {
   "cell_type": "code",
   "execution_count": 13,
   "metadata": {},
   "outputs": [
    {
     "name": "stdout",
     "output_type": "stream",
     "text": [
      "I FIND IT\n"
     ]
    }
   ],
   "source": [
    "fruits=[\"apple\",\"banana\",\"orange\",\"grape\",\"lychee\"]\n",
    "for i in range(len(fruits)):\n",
    "    if fruits[i]==\"apple\":\n",
    "      print(\"I FIND IT\")"
   ]
  },
  {
   "cell_type": "code",
   "execution_count": 16,
   "metadata": {},
   "outputs": [
    {
     "name": "stdout",
     "output_type": "stream",
     "text": [
      "['apple', 'banana', 'orange', 'grape', 'lychee', 'pinapple', 'pear']\n"
     ]
    }
   ],
   "source": [
    "fruits=[\"apple\",\"banana\",\"orange\",\"grape\",\"lychee\"]\n",
    "fruits.append(\"pinapple\")\n",
    "fruits.append(\"pear\")\n",
    "print(fruits) "
   ]
  },
  {
   "cell_type": "code",
   "execution_count": 21,
   "metadata": {},
   "outputs": [
    {
     "name": "stdout",
     "output_type": "stream",
     "text": [
      "apple has 5 letters\n",
      "banana has 6 letters\n",
      "orange has 6 letters\n",
      "grape has 5 letters\n",
      "lychee has 6 letters\n",
      "pinapple has 8 letters\n",
      "pear has 4 letters\n"
     ]
    }
   ],
   "source": [
    "fruits=[\"apple\",\"banana\",\"orange\",\"grape\",\"lychee\",\"pinapple\",\"pear\"]\n",
    "for i in range(len(fruits)):\n",
    "    print(fruits[i]+\" has \"+str(len(fruits[i]))+\" letters\")"
   ]
  },
  {
   "cell_type": "code",
   "execution_count": 38,
   "metadata": {},
   "outputs": [
    {
     "data": {
      "text/plain": [
       "True"
      ]
     },
     "execution_count": 38,
     "metadata": {},
     "output_type": "execute_result"
    }
   ],
   "source": [
    "\n",
    "def half_squared(args):\n",
    "    list=[]\n",
    "    for i in args:\n",
    "        squared=i*i/2\n",
    "        list.append(squared)\n",
    "    return list\n",
    "half_squared([3,3]) == [4.5,4.5]\n",
    "    \n",
    "        "
   ]
  },
  {
   "cell_type": "code",
   "execution_count": 39,
   "metadata": {},
   "outputs": [
    {
     "name": "stdout",
     "output_type": "stream",
     "text": [
      "input first number: 12\n",
      "input second number: 13\n",
      "13\n"
     ]
    }
   ],
   "source": [
    "\n",
    "a = int(input(\"input first number: \"))\n",
    "b = int(input(\"input second number: \"))\n",
    "if(a > b):\n",
    "    print(a)\n",
    "else:\n",
    "    print(b)\n",
    "    "
   ]
  },
  {
   "cell_type": "code",
   "execution_count": 52,
   "metadata": {},
   "outputs": [
    {
     "name": "stdout",
     "output_type": "stream",
     "text": [
      "input your grade\n",
      "56\n",
      "C\n"
     ]
    }
   ],
   "source": [
    "score=int(input(\"input your grade\\n\"))\n",
    "if(score>=90 and score<=100):\n",
    "    print(\"A\")\n",
    "if(score<90 and score>60):\n",
    "    print(\"B\")\n",
    "if(score<=60 and score>=0):\n",
    "    print(\"C\")\n",
    "else:\n",
    "    print(\"ERROR\")"
   ]
  },
  {
   "cell_type": "code",
   "execution_count": 57,
   "metadata": {},
   "outputs": [
    {
     "name": "stdout",
     "output_type": "stream",
     "text": [
      "input first number1\n",
      "input second number6\n",
      "input third number2\n",
      "(6, 2, 1)\n"
     ]
    }
   ],
   "source": [
    "a=int(input(\"input first number\"))\n",
    "b=int(input(\"input second number\"))\n",
    "c=int(input(\"input third number\"))\n",
    "def exchange(a,b):\n",
    "    c = a\n",
    "    a = b\n",
    "    b = c\n",
    "    return a,b\n",
    "def reSort(a,b,c):\n",
    "    if(c>b):\n",
    "        b,c=exchange(b,c)\n",
    "    if(c>a):\n",
    "        a,c=exchange(a,c)\n",
    "    if(b>a):\n",
    "        a,b=exchange(a,b)\n",
    "    return a,b,c\n",
    "print(reSort(a,b,c))    "
   ]
  },
  {
   "cell_type": "code",
   "execution_count": 58,
   "metadata": {},
   "outputs": [
    {
     "name": "stdout",
     "output_type": "stream",
     "text": [
      "1\n",
      "2\n",
      "3\n",
      "4\n",
      "5\n",
      "6\n"
     ]
    }
   ],
   "source": [
    "list1 = [1,2,3]\n",
    "list2 = [4,5,6]\n",
    "array = [list1,list2]\n",
    "for i in array:\n",
    "    for j in i:\n",
    "        print(j)"
   ]
  },
  {
   "cell_type": "code",
   "execution_count": 59,
   "metadata": {},
   "outputs": [
    {
     "name": "stdout",
     "output_type": "stream",
     "text": [
      "1\n",
      "8\n",
      "17\n",
      "18\n",
      "26\n",
      "27\n"
     ]
    }
   ],
   "source": [
    "for i in range(1,100):\n",
    "    if i ==sum(map(int,str(pow(i,3)))):\n",
    "        print(i)"
   ]
  },
  {
   "cell_type": "code",
   "execution_count": 62,
   "metadata": {},
   "outputs": [
    {
     "name": "stdout",
     "output_type": "stream",
     "text": [
      "x=8 y= 2\n",
      "x=2 y= 8\n"
     ]
    }
   ],
   "source": [
    "import random\n",
    "\n",
    "def exchange(a,b):\n",
    "    a,b = b,a\n",
    "    return (a,b)\n",
    " \n",
    "if __name__ == '__main__':\n",
    "    x = random.randint(1,10)\n",
    "    y = random.randint(1,10)\n",
    "    print(\"x=\"+str(x)+\" y= \"+str(y))\n",
    "    a,b=exchange(x,y)\n",
    "    print(\"x=\"+str(a)+\" y= \"+str(b))"
   ]
  },
  {
   "cell_type": "code",
   "execution_count": 63,
   "metadata": {},
   "outputs": [
    {
     "name": "stdout",
     "output_type": "stream",
     "text": [
      "   *   \n",
      "  ***  \n",
      " ***** \n",
      "*******\n",
      " ***** \n",
      "  ***  \n",
      "   *   \n"
     ]
    }
   ],
   "source": [
    "s = '*'\n",
    "for i in range(1, 8, 2):\n",
    "    print((s*i).center(7))\n",
    "for i in reversed(range(1, 6, 2)):\n",
    "    print((s*i).center(7))"
   ]
  },
  {
   "cell_type": "code",
   "execution_count": 64,
   "metadata": {},
   "outputs": [
    {
     "name": "stdout",
     "output_type": "stream",
     "text": [
      "123456\n",
      "23456\n",
      "3456\n",
      "456\n",
      "56\n",
      "6\n"
     ]
    }
   ],
   "source": [
    "for i in range(1,7):\n",
    "    for j in range(i,7):\n",
    "        print(j,end=\"\")\n",
    "    print()"
   ]
  },
  {
   "cell_type": "code",
   "execution_count": 66,
   "metadata": {},
   "outputs": [
    {
     "name": "stdout",
     "output_type": "stream",
     "text": [
      "123456\n",
      "234561\n",
      "345612\n",
      "456123\n",
      "561234\n",
      "612345\n"
     ]
    }
   ],
   "source": [
    "for i in range(1,7):\n",
    "    for j in range(i,7):\n",
    "        print(j,end=\"\")\n",
    "    for l in range(1,i-1+1):\n",
    "        print(l,end=\"\")\n",
    "    print()\n",
    "\n"
   ]
  },
  {
   "cell_type": "code",
   "execution_count": 67,
   "metadata": {},
   "outputs": [
    {
     "name": "stdout",
     "output_type": "stream",
     "text": [
      "Charles\n",
      "Martina\n",
      "Michael\n"
     ]
    }
   ],
   "source": [
    "players = ['charles','martina','michael','florence','eli']\n",
    "for player in players[:3]:\n",
    "    print(player.title())"
   ]
  },
  {
   "cell_type": "code",
   "execution_count": null,
   "metadata": {},
   "outputs": [],
   "source": []
  }
 ],
 "metadata": {
  "kernelspec": {
   "display_name": "Python 3",
   "language": "python",
   "name": "python3"
  },
  "language_info": {
   "codemirror_mode": {
    "name": "ipython",
    "version": 3
   },
   "file_extension": ".py",
   "mimetype": "text/x-python",
   "name": "python",
   "nbconvert_exporter": "python",
   "pygments_lexer": "ipython3",
   "version": "3.6.5"
  }
 },
 "nbformat": 4,
 "nbformat_minor": 2
}
