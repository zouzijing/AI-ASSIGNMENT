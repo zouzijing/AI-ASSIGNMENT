{
 "cells": [
  {
   "cell_type": "markdown",
   "metadata": {},
   "source": [
    "# Introduction to Artificial Intelligence for Non Computing"
   ]
  },
  {
   "cell_type": "markdown",
   "metadata": {},
   "source": [
    "## Practical 4 (weeks 7 - 8)"
   ]
  },
  {
   "cell_type": "markdown",
   "metadata": {},
   "source": [
    "#### Theory Questions"
   ]
  },
  {
   "cell_type": "markdown",
   "metadata": {},
   "source": [
    "1\\.Symbolize the following proposition and discuss the truth.\n",
    "1. Everyone has black hair.\n",
    "2. Some people boarded the moon.\n",
    "3. No one has boarded Jupiter\n",
    "4. Students studying in the US are not necessarily Asians."
   ]
  },
  {
   "cell_type": "markdown",
   "metadata": {},
   "source": [
    "### Answer\n",
    "[1] \n",
    "    - Assume that F(x):x is a human.\n",
    "    - Assume that M(X):x has black hair.\n",
    "    - Everyone has black hair -> ∀x F(x)=>M(x)\n",
    "    - Assume that one human called Jack has Blue hair.\n",
    "    - So F(Jack) is true, M(Jack) is false. That F(Jack)=>F(Jack) is false.\n",
    "    - So ∀x F(x)=>M(X) is false.\n",
    "    - So the proposition is false.\n",
    "[2] \n",
    "    - Assume that F(x):x is a human.\n",
    "    - Assume that O(x):x has boarded the moon.\n",
    "    - Some people boarded the moon -> ∃x F(x)∧O(x)\n",
    "    - We know that 大卫斯科特 has boarded the moon, and he is human.\n",
    "    - So F(大卫斯科特) is true , O(大卫斯科特) is true . That F(大卫斯科特)∧O(大卫斯科特) is true.\n",
    "    - So ∃x F(x)∧O(x) is true.\n",
    "    - So the proposition is true.\n",
    "[3] \n",
    "    - Assume that F(x):x is a human.\n",
    "    - Assume that G(x):x has boarded the Jupiter.\n",
    "    - No one has boarded Jupiter -> ∀x F(x)=>￢G(x) -> ∀x ￢(F(x)∧G(x))\n",
    "    - Negative -> ∃x F(x)∧G(x)\n",
    "    - We know that no one has boarded Jupiter, Assume A is human, So F(A) is true, G(A) is false.\n",
    "    - So F(A)∧G(A) is false.\n",
    "    - So ∃x F(x)∧G(x) is false.\n",
    "    - So ∀x ￢(F(x)∧G(x)) is true.\n",
    "    - So the proposition is true.\n",
    "[4] \n",
    "    - Assume that S(x):x is a student studying in the US.\n",
    "    - Assume that A(x):x is a Asians.\n",
    "    - Students studying in the US are not necessarily Asians -> ∃x S(x)∧￢A(x)\n",
    "    - We know that many students studying in the US are Americans.\n",
    "    - Assume B is a student studying in the US, B is American.\n",
    "    - So S(B) is true , A(B) is false.\n",
    "    - So S(B)∧￢A(B) is true.\n",
    "    - So ∃x S(x)∧￢A(x) is true.\n",
    "    - So the proposition is true.\n",
    "***\n"
   ]
  },
  {
   "cell_type": "markdown",
   "metadata": {},
   "source": [
    "2\\.Judge the following formula, which is tautology? What is the contradiction?\n",
    "1. ∀xF(x)⇒(∃x∃yG(x,y))⇒∀xF(x))\n",
    "2. ￢( ∀xF(x)⇒∃yG(y))∧∃yG(y)\n",
    "3. ∀x(F(x)⇒G(y))"
   ]
  },
  {
   "cell_type": "markdown",
   "metadata": {},
   "source": [
    "### Answer\n",
    "1. It is tautology. Because it is always true. It is the same as a=>(b=>a).\n",
    "2. It is contradiction. Because it is always false. It is the same as ￢a=>(b=>a).\n",
    "3. Not tautology or contradiction.\n",
    "\n",
    "***"
   ]
  },
  {
   "cell_type": "markdown",
   "metadata": {},
   "source": [
    "3\\.Which of the following are correct?\n",
    "1. False |=True.\n",
    "2. (A ∧ B) |= (A ⇔ B).\n",
    "3. (A ∧ B) ⇒ C |= (A ⇒ C) ∨ (B ⇒ C).\n",
    "4. (A ∨ B) ∧ (￢C ∨￢D ∨ E) |= (A ∨ B).\n",
    "5. (A ∨ B) ∧ (￢C ∨￢D ∨ E) |= (A ∨ B) ∧ (￢D ∨ E)."
   ]
  },
  {
   "cell_type": "markdown",
   "metadata": {},
   "source": [
    "### Answer\n",
    "\n",
    "1. True\n",
    "2. True\n",
    "3. True\n",
    "4. True\n",
    "5. False\n",
    "\n",
    "***"
   ]
  },
  {
   "cell_type": "markdown",
   "metadata": {},
   "source": [
    "4\\.Conjunctive normal form.link:https://baike.baidu.com/item/%E5%90%88%E5%8F%96%E8%8C%83%E5%BC%8F/2459360\n",
    "1. Obtaining conjunctive paradigm: P∧(Q⇒R)⇒S\n",
    "#### Basic steps to find a conjunctive normal form.\n",
    "1. Cut redundant connectives，Reserved {∨，∧，￢}\n",
    "2. Move or remove the negation ~\n",
    "3. distribution rates"
   ]
  },
  {
   "cell_type": "markdown",
   "metadata": {},
   "source": [
    "### Answer\n",
    "- P∧(Q⇒R)⇒S\n",
    "- P∧(￢Q∨R)⇒S\n",
    "- ￢(P∧(￢Q∨R))∨S\n",
    "- ￢P∨￢(￢Q∨R))∨S\n",
    "- ￢P∨(Q∧￢R)∨S\n",
    "- (￢P∨S∨Q)∧(￢P∨S∨￢R)\n",
    "\n",
    "***"
   ]
  },
  {
   "cell_type": "markdown",
   "metadata": {},
   "source": [
    "5\\.Arithmetic assertions can be written in first-order logic with the predicate symbol <,the function symbols + and ×, and the constant symbols 0 and 1. Additional   predicates can also be defined with biconditionals.(Chapter 8.20)\n",
    "1. Represent the property “x is an even number.”\n",
    "2. Represent the property “x is prime.”\n",
    "3. Goldbach’s conjecture is the conjecture (unproven as yet) that every even number is equal to the sum of two primes. Represent this conjecture as a logical sentence.\n"
   ]
  },
  {
   "cell_type": "markdown",
   "metadata": {},
   "source": [
    "### Answer\n",
    "1. ∀x Even(x) ⇔ ∃y x=2×y\n",
    "2. ∀x Prime(x) ⇔ ∀y,z x=y×z ⇒ (y=1 ∨ z=1)\n",
    "3. ∀x Even(x) ⇒ ∃y,z Prime(y) ∧ Prime(z) ∧ (x = y+z).\n",
    "\n",
    "***"
   ]
  },
  {
   "cell_type": "markdown",
   "metadata": {},
   "source": [
    "### Programming Excercises"
   ]
  },
  {
   "cell_type": "markdown",
   "metadata": {},
   "source": [
    "1. Take the multiagent folder from assignment 2 and copy into a new directory for this practical. We will implement a version of minimax for Ghost Agents to make very smart ghosts.\n",
    "\n",
    "First look at the file ghostAgents.py. Try to play classic pacman against the directional ghost and the random ghost. Use the following option:\n",
    "\n",
    "\n",
    "-g TYPE, --ghosts=TYPE\n",
    "                        the ghost agent TYPE in the ghostAgents module to use\n",
    "                        [Default: RandomGhost]\n",
    "\n",
    "Now implement a new ghost agent called MinimaxGhost. You will need to create a new class and methods in the file ghostAgent (you can ask the tutor if you need help to create the method stub).\n",
    "\n",
    "\n",
    "This will involve implementing the following methods:\n",
    "\n",
    "---\n",
    "<code>\n",
    "class MinmaxGhost ( GhostAgent ):\n",
    "\n",
    "    def __init__( self, index, ...):\n",
    "\t\t...\n",
    "\t\t\n",
    "\t\t\n",
    "\tdef getAction(self, state):\n",
    "\t\t...\n",
    "\n",
    "\tdef getDistribution(self, state):\n",
    "\t\t...\n",
    "</code>\n",
    "---\t\t\n",
    "\n",
    "\n",
    "To test whether or not you have implemented correctly you will need to compare the behaviour of your new ghost agent with the random ghost agent. This has to be done over multiple tests (e.g. 10 runs).\n",
    "\n",
    "- You can turn off the graphical display to use options -t or -q\n",
    "- You can perform multiple runs (e.g. 10) by setting the -numGames=10\n",
    "- You can fix the random seed as well.\n",
    "\n",
    "Try to use different layouts to test. A simple layout might be good for testing initially as you are developing your algorithm. New layout files can be created in the layout directory (must be saved with end of file name \".lay\"). For example:\n",
    "smallClassic.lay\n",
    "<code>\n",
    "%%%%%%%%%%%%%%%%%%%%\n",
    "%......%G  G%......%\n",
    "%.%%...%%  %%...%%.%\n",
    "%.%o.%........%.o%.%\n",
    "%.%%.%.%%%%%%.%.%%.%\n",
    "%........P.........%\n",
    "%%%%%%%%%%%%%%%%%%%%\n",
    "</code>\n",
    "newLayout.lay:\n",
    "<code>\n",
    "%%%%%%%\n",
    "% %G% %\n",
    "% % % %\n",
    "% % % %\n",
    "%%%P%%%\n",
    "%     %\n",
    "% %%% %\n",
    "% % % %\n",
    "% % % %\n",
    "% %%% %\n",
    "%  .  %\n",
    "%%%G%%%\n",
    "%%%%%%%\n",
    "</code>\n",
    "\n",
    "Please try to make some different layouts such as in this example,(the ghosts are marked by G, walls by % and pacman starting position by P,\".\" for pellet)\n",
    "<div style=\"float:center;\" ><img src=\"img/p2.png\" width=\"200\" height=\"50\" ></div> \n",
    "\n",
    "<code>\n",
    "%%%%%%%%%%%%%%%%%%%%%%%\n",
    "%......%o %%...... %  %\n",
    "%. G...%%  %..%%%% %  %\n",
    "%... .... G%.o%    ...%\n",
    "%.%%.%.%%%%%%%%.%%%%  %\n",
    "%........P.........o  %\n",
    "%%%%%%%%%%%%%%%%%%%%%%%\n",
    "</code>\n",
    "\n",
    "\n",
    "---\n",
    "\n",
    "2\\. \n",
    "In this question we will test the new ghostAgent with different pacman agents. In your assignment you were asked to complete a Minimax pacman a version of Expectimax for pacman was provided. If you have not completed the assignment just use the provided expectimax version.\n",
    "\n",
    "We will perform some experiments to compare the performance of pacman against different types of ghost agent:\n",
    "- a random (not smart) ghost vs a pacman that assumes optimal play from ghosts (ie minimax pacman).\n",
    "- a smart (minmax) ghost vs a pacman that assumes optimal play from ghosts\n",
    "- random ghosts vs pacman that assumes ghosts may not always do an optimal move\n",
    "- smart (minimax) ghosts vs pacman that assumes that ghosts may do suboptimal moves.\n",
    "\n",
    "\n",
    "This will result in a table similar to the following:\n",
    "\n",
    "<div style=\"float:center;\" ><img src=\"img/p1.png\" width=\"400\" height=\"300\" ></div>\n",
    "\n",
    "\n"
   ]
  },
  {
   "cell_type": "code",
   "execution_count": 10,
   "metadata": {},
   "outputs": [],
   "source": [
    "class GhostMiniMax():\n",
    "#class GhostMiniMax(Agent):\n",
    "    def __init__(self,index,depth = 2):\n",
    "        self.index = index\n",
    "        self.depth = depth\n",
    "\n",
    "    def evaluationFunction(self,currentGameState):\n",
    "        return currentGameState.getScore()\n",
    "\n",
    "    def getAction(self,gameState):\n",
    "        def MiniMaxSolver(tempState, agentIndex=0, layerNum=0):\n",
    "            if agentIndex == AgentNum:\n",
    "                agentIndex = 0\n",
    "            elif agentIndex == GhostIndex:\n",
    "                layerNum += 1\n",
    "            if layerNum == depth or tempState.isWin() or tempState.isLose():\n",
    "                return self.evaluationFunction(tempState)\n",
    "\n",
    "            if agentIndex == PacmanIndex:\n",
    "                return MiniMaxLayer(tempState,agentIndex,layerNum,True)\n",
    "            else:\n",
    "                return MiniMaxLayer(tempState,agentIndex,layerNum,False)\n",
    "\n",
    "        def MiniMaxLayer(tempState, agentIndex, layerNum, minimaxSeek):\n",
    "            result_action = []\n",
    "            result_score = []\n",
    "            result = []\n",
    "            legalMoves = tempState.getLegalActions(agentIndex)\n",
    "            if len(legalMoves) == 0 or legalMoves == None:\n",
    "                return self.evaluationFunction(tempState)\n",
    "            for action in legalMoves:\n",
    "                newState = tempState.generateSuccessor(agentIndex, action)\n",
    "                newResult = MiniMaxSolver(newState, agentIndex + 1, layerNum)\n",
    "                try:\n",
    "                    if newResult[1] != None:\n",
    "                        temp_score = newResult[1]\n",
    "                except:\n",
    "                    temp_score = newResult\n",
    "                result_action.append(action)\n",
    "                result_score.append(temp_score)\n",
    "\n",
    "            if len(result_action) == 0:\n",
    "                return None\n",
    "            elif minimaxSeek:\n",
    "                best_score = max(result_score)\n",
    "            else:\n",
    "                best_score = min(result_score)\n",
    "\n",
    "            for i in range(len(result_score)):\n",
    "                if result_score[i] == best_score:\n",
    "                    result.append(result_action[i])\n",
    "\n",
    "            return random.choice(result), best_score\n",
    "\n",
    "        depth = self.depth\n",
    "        PacmanIndex = 0\n",
    "        GhostIndex = self.index\n",
    "        AgentNum = gameState.getNumAgents()\n",
    "        return MiniMaxSolver(gameState,agentIndex=GhostIndex,layerNum=-1)[0]"
   ]
  },
  {
   "cell_type": "markdown",
   "metadata": {},
   "source": [
    "|  . |Adversarial Ghost|Random Ghost|\n",
    "|------|------|------|\n",
    "|Minimax Pacman| Won:2/5 <br/> Avg.Score:354.2|Won:3/5 <br/> Avg.Score:486.2|\n",
    "|Expectimax Pacman|Won:1/5 <br/> Avg.Score:100.2|Won:1/5 <br/> Avg.Score:81.6|"
   ]
  },
  {
   "cell_type": "markdown",
   "metadata": {},
   "source": [
    "3\\.\n",
    "Describe the performance (in terms of the distribution) of Pacman in each case.\n",
    "\n",
    "In which cases is the Pacman agent implementing the correct assumption of the ghosts behaviour?\n",
    "\n",
    "### Answer\n",
    "We can see that Minimax Pacman Agent is better than  Expectimax Pacman Agent.\n",
    "So we know that Minimax Pacman Agent can make assumption of the ghosts behaviour more accurate.\n",
    "And Adversarial Ghost is more threatening than random Ghost.\n",
    "\n",
    "---\n",
    "\n",
    "4\\. Describe why the ghosts seem as if they are cooperating when using minimax even though they are not sharing information with each other.\n",
    "\n",
    "### Answer\n",
    "Because they all want to make the pacman get less score. And they all assume that the pacman moves to the best place.\n",
    "So they get the same information of pacman in each deepth. Besides, when they caculate score, they will assume other ghosts do the worst action, then each ghosts will do the worst action. So they are seem as if they are cooperating."
   ]
  },
  {
   "cell_type": "code",
   "execution_count": null,
   "metadata": {},
   "outputs": [],
   "source": []
  }
 ],
 "metadata": {
  "kernelspec": {
   "display_name": "Python 3",
   "language": "python",
   "name": "python3"
  },
  "language_info": {
   "codemirror_mode": {
    "name": "ipython",
    "version": 3
   },
   "file_extension": ".py",
   "mimetype": "text/x-python",
   "name": "python",
   "nbconvert_exporter": "python",
   "pygments_lexer": "ipython3",
   "version": "3.7.0"
  }
 },
 "nbformat": 4,
 "nbformat_minor": 2
}
